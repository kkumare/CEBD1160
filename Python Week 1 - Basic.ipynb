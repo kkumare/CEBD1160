{
 "cells": [
  {
   "cell_type": "code",
   "execution_count": 1,
   "metadata": {},
   "outputs": [
    {
     "name": "stdout",
     "output_type": "stream",
     "text": [
      "Basic_Q1\n",
      "\n",
      "\n",
      "<class 'int'>\n",
      "<class 'float'>\n",
      "<class 'str'>\n",
      "<class 'str'>\n",
      "<class 'bool'>\n",
      "<class 'bool'>\n",
      "<class 'list'>\n"
     ]
    }
   ],
   "source": [
    "title1 = 'Basic_Q1'\n",
    "\n",
    "\n",
    "a = type(1)\n",
    "b = type(3.4)\n",
    "c = type(\"Big Data!\")\n",
    "d = type('Big Data!')\n",
    "e = type(True)\n",
    "f = type(False)\n",
    "g = type([1,2,\"intruder\",3])\n",
    "\n",
    "print (title1)\n",
    "print ('\\n')\n",
    "print (a)\n",
    "print (b)\n",
    "print (c)\n",
    "print (d)\n",
    "print (e)\n",
    "print (f)\n",
    "print (g)"
   ]
  },
  {
   "cell_type": "code",
   "execution_count": 4,
   "metadata": {},
   "outputs": [
    {
     "name": "stdout",
     "output_type": "stream",
     "text": [
      "Basic_Q2\n",
      "\n",
      "\n",
      "FizzBuzz\n",
      "1\n",
      "2\n",
      "Fizz\n",
      "4\n",
      "Buzz\n",
      "Fizz\n",
      "7\n",
      "8\n",
      "Fizz\n",
      "Buzz\n",
      "11\n",
      "Fizz\n",
      "13\n",
      "14\n",
      "FizzBuzz\n",
      "16\n",
      "17\n",
      "Fizz\n",
      "19\n",
      "Buzz\n",
      "Fizz\n",
      "22\n",
      "23\n",
      "Fizz\n",
      "Buzz\n",
      "26\n",
      "Fizz\n",
      "28\n",
      "29\n",
      "FizzBuzz\n",
      "31\n",
      "32\n",
      "Fizz\n",
      "34\n",
      "Buzz\n",
      "Fizz\n",
      "37\n",
      "38\n",
      "Fizz\n",
      "Buzz\n",
      "41\n",
      "Fizz\n",
      "43\n",
      "44\n",
      "FizzBuzz\n",
      "46\n",
      "47\n",
      "Fizz\n",
      "49\n",
      "Buzz\n",
      "Fizz\n",
      "52\n",
      "53\n",
      "Fizz\n",
      "Buzz\n",
      "56\n",
      "Fizz\n",
      "58\n",
      "59\n",
      "FizzBuzz\n",
      "61\n",
      "62\n",
      "Fizz\n",
      "64\n",
      "Buzz\n",
      "Fizz\n",
      "67\n",
      "68\n",
      "Fizz\n",
      "Buzz\n",
      "71\n",
      "Fizz\n",
      "73\n",
      "74\n",
      "FizzBuzz\n",
      "76\n",
      "77\n",
      "Fizz\n",
      "79\n",
      "Buzz\n",
      "Fizz\n",
      "82\n",
      "83\n",
      "Fizz\n",
      "Buzz\n",
      "86\n",
      "Fizz\n",
      "88\n",
      "89\n",
      "FizzBuzz\n",
      "91\n",
      "92\n",
      "Fizz\n",
      "94\n",
      "Buzz\n",
      "Fizz\n",
      "97\n",
      "98\n",
      "Fizz\n",
      "Buzz\n"
     ]
    }
   ],
   "source": [
    "title2 = 'Basic_Q2'\n",
    "\n",
    "print(title2)\n",
    "print('\\n')\n",
    "\n",
    "for number in range(0,101):  \n",
    "    if number%3==0 and number%5==0:\n",
    "        print (\"FizzBuzz\")\n",
    "    elif number%5==0:\n",
    "        print (\"Buzz\")\n",
    "    elif number%3==0:\n",
    "        print (\"Fizz\")\n",
    "    else: \n",
    "        print (number)"
   ]
  },
  {
   "cell_type": "code",
   "execution_count": 3,
   "metadata": {},
   "outputs": [
    {
     "name": "stdout",
     "output_type": "stream",
     "text": [
      "0\n",
      "3\n",
      "5\n",
      "6\n",
      "9\n",
      "9\n",
      "0\n",
      "233168\n"
     ]
    }
   ],
   "source": [
    "sum = 0\n",
    "list = range (0,10)\n",
    "\n",
    "max_integer = max(list)\n",
    "min_integer = min(list)\n",
    "\n",
    "for number1 in range(0,10):  \n",
    "    if (number1%3==0) or (number1%5==0):\n",
    "        print (number1)\n",
    "\n",
    "for number in range(0,1000):  \n",
    "    if (number%3==0) or (number%5==0):\n",
    "        sum = sum + number\n",
    "    \n",
    "print(max_integer)\n",
    "print(min_integer)\n",
    "print(sum)"
   ]
  },
  {
   "cell_type": "code",
   "execution_count": 42,
   "metadata": {},
   "outputs": [
    {
     "name": "stdout",
     "output_type": "stream",
     "text": [
      "Hy lk wrds!\n"
     ]
    }
   ],
   "source": [
    "def no_vowels(text):\n",
    "    new_text=\"\"\n",
    "    for i in text:\n",
    "        if i == 'a' or i == 'A':\n",
    "            pass\n",
    "        elif i == 'e' or i == 'E':\n",
    "            pass\n",
    "        elif i == 'i' or i == 'I':\n",
    "            pass\n",
    "        elif i == 'o' or i == \"O\":\n",
    "            pass\n",
    "        elif i == 'u' or i == 'U':\n",
    "            pass\n",
    "        else:\n",
    "            new_text = new_text + i\n",
    "    return new_text\n",
    "    \n",
    "print (no_vowels('Hey look words!'))"
   ]
  },
  {
   "cell_type": "code",
   "execution_count": null,
   "metadata": {},
   "outputs": [],
   "source": [
    "no_vowels('hi hello how are you')"
   ]
  }
 ],
 "metadata": {
  "kernelspec": {
   "display_name": "Python 3",
   "language": "python",
   "name": "python3"
  },
  "language_info": {
   "codemirror_mode": {
    "name": "ipython",
    "version": 3
   },
   "file_extension": ".py",
   "mimetype": "text/x-python",
   "name": "python",
   "nbconvert_exporter": "python",
   "pygments_lexer": "ipython3",
   "version": "3.7.3"
  }
 },
 "nbformat": 4,
 "nbformat_minor": 2
}
