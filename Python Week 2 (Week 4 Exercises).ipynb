{
 "cells": [
  {
   "cell_type": "code",
   "execution_count": 13,
   "metadata": {},
   "outputs": [
    {
     "name": "stdout",
     "output_type": "stream",
     "text": [
      "Basic Q1\n",
      "\n",
      "\n",
      "Original list: [5, 5, 5, 5, 4, 3, 2, 1, 4, 4, 7]\n",
      "No dupes: [5, 4, 3, 2, 1, 7]\n"
     ]
    }
   ],
   "source": [
    "print('Basic Q1')\n",
    "print('\\n')\n",
    "\n",
    "def lst1(duplicate):\n",
    "    final_list=[]\n",
    "    for num in duplicate:\n",
    "        if num not in final_list:\n",
    "            final_list.append(num)\n",
    "    return final_list\n",
    "\n",
    "duplicate = [5,5,5,5,4,3,2,1,4,4,7]\n",
    "print('Original list:', duplicate)\n",
    "print('No dupes:', lst1(duplicate))"
   ]
  },
  {
   "cell_type": "code",
   "execution_count": 11,
   "metadata": {},
   "outputs": [
    {
     "name": "stdout",
     "output_type": "stream",
     "text": [
      "Basic Q2\n",
      "\n",
      "\n",
      "Ordered list: [6, 8, 10]\n",
      "False\n",
      "True\n"
     ]
    }
   ],
   "source": [
    "print('Basic Q2')\n",
    "print('\\n')\n",
    "\n",
    "def find(ordered_list, new_number):\n",
    "  for i in ordered_list:\n",
    "    if i == new_number:\n",
    "      return True\n",
    "  return False\n",
    "\n",
    "ordered_list=[6,8,10]\n",
    "print('Ordered list:', ordered_list)\n",
    "print(find(ordered_list,5))\n",
    "print(find(ordered_list,10))"
   ]
  },
  {
   "cell_type": "code",
   "execution_count": 27,
   "metadata": {},
   "outputs": [
    {
     "name": "stdout",
     "output_type": "stream",
     "text": [
      "Basic Q3\n",
      "\n",
      "\n",
      "[1, 4, 9, 16, 25, 36, 49, 64, 81, 100]\n",
      "4 16 36 64 100 "
     ]
    }
   ],
   "source": [
    "print('Basic Q3')\n",
    "print('\\n')\n",
    "\n",
    "a = [1,4,9,16,25,36,49,64,81,100]\n",
    "\n",
    "print(a)\n",
    "\n",
    "for i in a:\n",
    "    if i % 2 == 0:\n",
    "        print (i, end = \" \")"
   ]
  }
 ],
 "metadata": {
  "kernelspec": {
   "display_name": "Python 3",
   "language": "python",
   "name": "python3"
  },
  "language_info": {
   "codemirror_mode": {
    "name": "ipython",
    "version": 3
   },
   "file_extension": ".py",
   "mimetype": "text/x-python",
   "name": "python",
   "nbconvert_exporter": "python",
   "pygments_lexer": "ipython3",
   "version": "3.7.3"
  }
 },
 "nbformat": 4,
 "nbformat_minor": 2
}
